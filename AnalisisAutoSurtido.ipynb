{
 "cells": [
  {
   "cell_type": "markdown",
   "metadata": {},
   "source": [
    "### Análisis de tiempos de autosurtido Noviembre 2020 - Enero 2021\n",
    "#### Este análisis tiene como objetivo encontrar los talleres/agencias que cumplen con los tiempos meta de autosurtido y cuántos cumplen con las fechas promesa de entrega de los vehículos."
   ]
  },
  {
   "cell_type": "code",
   "execution_count": 127,
   "metadata": {},
   "outputs": [
    {
     "data": {
      "text/html": [
       "<div>\n",
       "<style scoped>\n",
       "    .dataframe tbody tr th:only-of-type {\n",
       "        vertical-align: middle;\n",
       "    }\n",
       "\n",
       "    .dataframe tbody tr th {\n",
       "        vertical-align: top;\n",
       "    }\n",
       "\n",
       "    .dataframe thead th {\n",
       "        text-align: right;\n",
       "    }\n",
       "</style>\n",
       "<table border=\"1\" class=\"dataframe\">\n",
       "  <thead>\n",
       "    <tr style=\"text-align: right;\">\n",
       "      <th></th>\n",
       "      <th>NIP_SUCURSAL</th>\n",
       "      <th>RFC</th>\n",
       "      <th>RAZONSOCIAL</th>\n",
       "      <th>NOMBRECOMERCIAL_CDR</th>\n",
       "      <th>OFICINAASEGURADORA</th>\n",
       "      <th>REGIONAL</th>\n",
       "      <th>MONTOAUTOSURTIDO</th>\n",
       "    </tr>\n",
       "  </thead>\n",
       "  <tbody>\n",
       "    <tr>\n",
       "      <th>0</th>\n",
       "      <td>298742-25478</td>\n",
       "      <td>SLP860522482</td>\n",
       "      <td>SANROMAN LAMINADOS Y PINTURAS ESPECIALIZADOS S...</td>\n",
       "      <td>SANROMAN LAMINADOS Y PINTURAS ESPECIALIZADOS</td>\n",
       "      <td>LEON</td>\n",
       "      <td>BAJIO</td>\n",
       "      <td>13000</td>\n",
       "    </tr>\n",
       "    <tr>\n",
       "      <th>1</th>\n",
       "      <td>599516-22329</td>\n",
       "      <td>SASM800712BW3</td>\n",
       "      <td>MIGUEL SANROMAN SASHIDA</td>\n",
       "      <td>SANROMAN LAS TORRES</td>\n",
       "      <td>LEON</td>\n",
       "      <td>BAJIO</td>\n",
       "      <td>13000</td>\n",
       "    </tr>\n",
       "    <tr>\n",
       "      <th>2</th>\n",
       "      <td>1947654-36682</td>\n",
       "      <td>LAM100601LF5</td>\n",
       "      <td>LAMINAUTOS SA DE CV</td>\n",
       "      <td>LAMINAUTOS</td>\n",
       "      <td>LEON</td>\n",
       "      <td>BAJIO</td>\n",
       "      <td>13000</td>\n",
       "    </tr>\n",
       "    <tr>\n",
       "      <th>3</th>\n",
       "      <td>2831677-37961</td>\n",
       "      <td>VIPA801021FJ5</td>\n",
       "      <td>ALBERTO VILLASENOR PANDURO</td>\n",
       "      <td>QUALITY CAR MORELIA</td>\n",
       "      <td>MORELIA</td>\n",
       "      <td>OCCIDENTE</td>\n",
       "      <td>10500</td>\n",
       "    </tr>\n",
       "    <tr>\n",
       "      <th>4</th>\n",
       "      <td>2785226-37885</td>\n",
       "      <td>FAU931014QC1</td>\n",
       "      <td>FUERZA AUTOMOTRIZ SA DE CV</td>\n",
       "      <td>FUERZA AUTOMOTRIZ MICHOACAN</td>\n",
       "      <td>MORELIA</td>\n",
       "      <td>OCCIDENTE</td>\n",
       "      <td>10500</td>\n",
       "    </tr>\n",
       "  </tbody>\n",
       "</table>\n",
       "</div>"
      ],
      "text/plain": [
       "    NIP_SUCURSAL            RFC  \\\n",
       "0   298742-25478   SLP860522482   \n",
       "1   599516-22329  SASM800712BW3   \n",
       "2  1947654-36682   LAM100601LF5   \n",
       "3  2831677-37961  VIPA801021FJ5   \n",
       "4  2785226-37885   FAU931014QC1   \n",
       "\n",
       "                                         RAZONSOCIAL  \\\n",
       "0  SANROMAN LAMINADOS Y PINTURAS ESPECIALIZADOS S...   \n",
       "1                            MIGUEL SANROMAN SASHIDA   \n",
       "2                                LAMINAUTOS SA DE CV   \n",
       "3                         ALBERTO VILLASENOR PANDURO   \n",
       "4                         FUERZA AUTOMOTRIZ SA DE CV   \n",
       "\n",
       "                            NOMBRECOMERCIAL_CDR OFICINAASEGURADORA   REGIONAL  \\\n",
       "0  SANROMAN LAMINADOS Y PINTURAS ESPECIALIZADOS               LEON      BAJIO   \n",
       "1                           SANROMAN LAS TORRES               LEON      BAJIO   \n",
       "2                                    LAMINAUTOS               LEON      BAJIO   \n",
       "3                           QUALITY CAR MORELIA            MORELIA  OCCIDENTE   \n",
       "4                   FUERZA AUTOMOTRIZ MICHOACAN            MORELIA  OCCIDENTE   \n",
       "\n",
       "   MONTOAUTOSURTIDO  \n",
       "0             13000  \n",
       "1             13000  \n",
       "2             13000  \n",
       "3             10500  \n",
       "4             10500  "
      ]
     },
     "execution_count": 127,
     "metadata": {},
     "output_type": "execute_result"
    }
   ],
   "source": [
    "import pandas as pd\n",
    "# Glancing at the excel file that contains information about 74 issues\n",
    "excel = pd.read_excel(r\"D:\\Users\\430008252\\OneDrive - HDI Seguros\\Documentos\\AutoSurtido\\CDR-AUTOSURTIDO_18-01-2021.xlsx\")\n",
    "excel.head()"
   ]
  },
  {
   "cell_type": "code",
   "execution_count": 128,
   "metadata": {},
   "outputs": [],
   "source": [
    "# Importing libraries to query from DWH\n",
    "import pyodbc\n",
    "# Settings to connect with the database\n",
    "server = 'data.hdi.com.mx'\n",
    "database = 'Procesos'\n",
    "DWH = pyodbc.connect(r'DRIVER={SQL Server};SERVER='+server+';DATABASE='+database+';TRUSTED_CONNECTION=TRUE')\n",
    "# Queries from DWH\n",
    "Tb_BI_GrlSinValuacion = pd.read_sql_query(\"\"\"SELECT\n",
    "    ValLst_NumeroExpediente\n",
    "    , IdOficinaAtencion\n",
    "    , FechaAutorizacionValuacion,FechaSolicitudRefacc\n",
    "    , FechaEntregaRefacc\n",
    "    , FechaPromesa\n",
    "    , FechaEntrega\n",
    "    , MontoRefacciones\n",
    "    , MontoManoObra\n",
    "    , NumeroTotalPiezas\n",
    "    , TipoCentroReparacion\n",
    "    , CONCAT(NipTaller, SucursalTaller) AS NipSucursal\n",
    "    , Taller\n",
    "    \n",
    "    FROM Tb_BI_GrlSinValuacion\n",
    "    \n",
    "    WHERE\n",
    "        FechaAutorizacionValuacion >= '2020-11-01 00:00:00'\n",
    "        AND FechaAutorizacionValuacion < '2021-02-01'\n",
    "        AND TipoProceso = 'EN REPARACION'\n",
    "        AND IdLineaNegocio = 4\"\"\",DWH).dropna()\n",
    "Vw_Bi_GrlSinValuacion_Refacciones = pd.read_sql_query(\"\"\"SELECT\n",
    "    [ID Valuación]\n",
    "    , [Oficina de Atención]\n",
    "    , [Nombre taller]\n",
    "    , [Descripción Homologada (calculado)]\n",
    "    , [Origen de la refacción (Genérica, Original, TOT, Usada)]\n",
    "    , FechaPromesaEntrega\n",
    "    , FechaRecepcion\n",
    "    , FechaAsignacion\n",
    "    , FechaEntregaProveedor\n",
    "    , CONCAT(NipProveedor, IdSucursal) AS NipSucursal\n",
    "\n",
    "    FROM Vw_Bi_GrlSinValuacion_Refacciones\n",
    "\n",
    "    WHERE \n",
    "        [ID Valuación] IN \n",
    "            (SELECT ValLst_NumeroExpediente\n",
    "            \n",
    "            FROM Tb_BI_GrlSinValuacion\n",
    "            \n",
    "            WHERE FechaAutorizacionValuacion >= '2020-11-01 00:00:00'\n",
    "            AND FechaAutorizacionValuacion < '2021-02-01'\n",
    "            AND TipoProceso = 'EN REPARACION'\n",
    "            AND IdLineaNegocio = 4)\"\"\",DWH).dropna()\n",
    "Vw_bi_SinModeloMetas = pd.read_sql_query(\"\"\"SELECT\n",
    "\n",
    "    Periodo\n",
    "    , Oficina\n",
    "    , TiempoSurtidoRefacciones\n",
    "    , CumplimientoFechaPromesa\n",
    "\n",
    "    FROM Vw_bi_SinModeloMetas\n",
    "\n",
    "    WHERE Periodo >= 202011\n",
    "    AND Periodo < 202102\"\"\",DWH).dropna()"
   ]
  },
  {
   "cell_type": "markdown",
   "metadata": {},
   "source": [
    "#### La tabla Tb_BI_GrlSinValuacion contiene información individual de cada valuación"
   ]
  },
  {
   "cell_type": "code",
   "execution_count": 129,
   "metadata": {
    "scrolled": false
   },
   "outputs": [
    {
     "data": {
      "text/html": [
       "<div>\n",
       "<style scoped>\n",
       "    .dataframe tbody tr th:only-of-type {\n",
       "        vertical-align: middle;\n",
       "    }\n",
       "\n",
       "    .dataframe tbody tr th {\n",
       "        vertical-align: top;\n",
       "    }\n",
       "\n",
       "    .dataframe thead th {\n",
       "        text-align: right;\n",
       "    }\n",
       "</style>\n",
       "<table border=\"1\" class=\"dataframe\">\n",
       "  <thead>\n",
       "    <tr style=\"text-align: right;\">\n",
       "      <th></th>\n",
       "      <th>ValLst_NumeroExpediente</th>\n",
       "      <th>IdOficinaAtencion</th>\n",
       "      <th>FechaAutorizacionValuacion</th>\n",
       "      <th>FechaSolicitudRefacc</th>\n",
       "      <th>FechaEntregaRefacc</th>\n",
       "      <th>FechaPromesa</th>\n",
       "      <th>FechaEntrega</th>\n",
       "      <th>MontoRefacciones</th>\n",
       "      <th>MontoManoObra</th>\n",
       "      <th>NumeroTotalPiezas</th>\n",
       "      <th>TipoCentroReparacion</th>\n",
       "      <th>NipSucursal</th>\n",
       "      <th>Taller</th>\n",
       "    </tr>\n",
       "  </thead>\n",
       "  <tbody>\n",
       "    <tr>\n",
       "      <th>0</th>\n",
       "      <td>1-21A1</td>\n",
       "      <td>6.0</td>\n",
       "      <td>2021-01-09 12:48:23.440</td>\n",
       "      <td>2021-01-14 14:09:15.313</td>\n",
       "      <td>2021-01-27 11:40:56.670</td>\n",
       "      <td>2021-02-17</td>\n",
       "      <td>2021-02-09 09:15:46.887</td>\n",
       "      <td>12093.84</td>\n",
       "      <td>3821.19</td>\n",
       "      <td>10.0</td>\n",
       "      <td>AGENCIA</td>\n",
       "      <td>92689836286</td>\n",
       "      <td>AUTOS GP IRAPUATO</td>\n",
       "    </tr>\n",
       "    <tr>\n",
       "      <th>2</th>\n",
       "      <td>118157-20A1</td>\n",
       "      <td>5.0</td>\n",
       "      <td>2020-12-05 10:50:34.537</td>\n",
       "      <td>2020-12-05 10:50:31.857</td>\n",
       "      <td>2021-01-06 12:50:51.640</td>\n",
       "      <td>2020-12-29</td>\n",
       "      <td>2021-01-09 12:08:57.500</td>\n",
       "      <td>13827.00</td>\n",
       "      <td>4172.28</td>\n",
       "      <td>7.0</td>\n",
       "      <td>TALLER</td>\n",
       "      <td>128435233986</td>\n",
       "      <td>BOUTIQUE CAR SHOW</td>\n",
       "    </tr>\n",
       "    <tr>\n",
       "      <th>4</th>\n",
       "      <td>1770-21A1</td>\n",
       "      <td>7.0</td>\n",
       "      <td>2021-01-21 22:48:59.903</td>\n",
       "      <td>2021-01-21 22:48:59.633</td>\n",
       "      <td>2021-02-02 17:27:38.217</td>\n",
       "      <td>2021-02-08</td>\n",
       "      <td>2021-02-09 09:41:33.603</td>\n",
       "      <td>8505.77</td>\n",
       "      <td>4083.85</td>\n",
       "      <td>5.0</td>\n",
       "      <td>AGENCIA</td>\n",
       "      <td>125418834504</td>\n",
       "      <td>VW LOMAS VERDES</td>\n",
       "    </tr>\n",
       "    <tr>\n",
       "      <th>5</th>\n",
       "      <td>188623-20A1</td>\n",
       "      <td>22.0</td>\n",
       "      <td>2020-11-03 20:11:49.277</td>\n",
       "      <td>2020-11-03 20:11:49.010</td>\n",
       "      <td>2020-11-11 11:13:04.120</td>\n",
       "      <td>2020-11-24</td>\n",
       "      <td>2020-11-14 10:53:10.780</td>\n",
       "      <td>8585.00</td>\n",
       "      <td>4728.28</td>\n",
       "      <td>9.0</td>\n",
       "      <td>TALLER</td>\n",
       "      <td>92894732414</td>\n",
       "      <td>CROMO TEAM</td>\n",
       "    </tr>\n",
       "    <tr>\n",
       "      <th>6</th>\n",
       "      <td>188630-20A1</td>\n",
       "      <td>3.0</td>\n",
       "      <td>2020-11-03 08:42:38.333</td>\n",
       "      <td>2020-11-06 11:02:46.257</td>\n",
       "      <td>2020-11-03 12:38:04.810</td>\n",
       "      <td>2020-11-13</td>\n",
       "      <td>2020-11-12 10:58:40.480</td>\n",
       "      <td>20470.90</td>\n",
       "      <td>7239.96</td>\n",
       "      <td>15.0</td>\n",
       "      <td>AGENCIA</td>\n",
       "      <td>28425932022</td>\n",
       "      <td>HONDA ROCA</td>\n",
       "    </tr>\n",
       "  </tbody>\n",
       "</table>\n",
       "</div>"
      ],
      "text/plain": [
       "  ValLst_NumeroExpediente  IdOficinaAtencion FechaAutorizacionValuacion  \\\n",
       "0                  1-21A1                6.0    2021-01-09 12:48:23.440   \n",
       "2             118157-20A1                5.0    2020-12-05 10:50:34.537   \n",
       "4               1770-21A1                7.0    2021-01-21 22:48:59.903   \n",
       "5             188623-20A1               22.0    2020-11-03 20:11:49.277   \n",
       "6             188630-20A1                3.0    2020-11-03 08:42:38.333   \n",
       "\n",
       "     FechaSolicitudRefacc      FechaEntregaRefacc FechaPromesa  \\\n",
       "0 2021-01-14 14:09:15.313 2021-01-27 11:40:56.670   2021-02-17   \n",
       "2 2020-12-05 10:50:31.857 2021-01-06 12:50:51.640   2020-12-29   \n",
       "4 2021-01-21 22:48:59.633 2021-02-02 17:27:38.217   2021-02-08   \n",
       "5 2020-11-03 20:11:49.010 2020-11-11 11:13:04.120   2020-11-24   \n",
       "6 2020-11-06 11:02:46.257 2020-11-03 12:38:04.810   2020-11-13   \n",
       "\n",
       "             FechaEntrega  MontoRefacciones  MontoManoObra  NumeroTotalPiezas  \\\n",
       "0 2021-02-09 09:15:46.887          12093.84        3821.19               10.0   \n",
       "2 2021-01-09 12:08:57.500          13827.00        4172.28                7.0   \n",
       "4 2021-02-09 09:41:33.603           8505.77        4083.85                5.0   \n",
       "5 2020-11-14 10:53:10.780           8585.00        4728.28                9.0   \n",
       "6 2020-11-12 10:58:40.480          20470.90        7239.96               15.0   \n",
       "\n",
       "  TipoCentroReparacion   NipSucursal             Taller  \n",
       "0              AGENCIA   92689836286  AUTOS GP IRAPUATO  \n",
       "2               TALLER  128435233986  BOUTIQUE CAR SHOW  \n",
       "4              AGENCIA  125418834504    VW LOMAS VERDES  \n",
       "5               TALLER   92894732414         CROMO TEAM  \n",
       "6              AGENCIA   28425932022         HONDA ROCA  "
      ]
     },
     "execution_count": 129,
     "metadata": {},
     "output_type": "execute_result"
    }
   ],
   "source": [
    "# Glancing at the data frame\n",
    "Tb_BI_GrlSinValuacion.head()"
   ]
  },
  {
   "cell_type": "code",
   "execution_count": 130,
   "metadata": {},
   "outputs": [
    {
     "data": {
      "text/plain": [
       "ValLst_NumeroExpediente               object\n",
       "IdOficinaAtencion                      int32\n",
       "FechaAutorizacionValuacion    datetime64[ns]\n",
       "FechaSolicitudRefacc          datetime64[ns]\n",
       "FechaEntregaRefacc            datetime64[ns]\n",
       "FechaPromesa                  datetime64[ns]\n",
       "FechaEntrega                  datetime64[ns]\n",
       "MontoRefacciones                     float64\n",
       "MontoManoObra                        float64\n",
       "NumeroTotalPiezas                    float64\n",
       "TipoCentroReparacion                  object\n",
       "NipSucursal                           object\n",
       "Taller                                object\n",
       "dtype: object"
      ]
     },
     "execution_count": 130,
     "metadata": {},
     "output_type": "execute_result"
    }
   ],
   "source": [
    "# Checking the data types in each column\n",
    "Tb_BI_GrlSinValuacion.IdOficinaAtencion = Tb_BI_GrlSinValuacion.IdOficinaAtencion.astype(\"int\")\n",
    "Tb_BI_GrlSinValuacion.dtypes"
   ]
  },
  {
   "cell_type": "code",
   "execution_count": 131,
   "metadata": {},
   "outputs": [
    {
     "data": {
      "text/plain": [
       "ValLst_NumeroExpediente             category\n",
       "IdOficinaAtencion                   category\n",
       "FechaAutorizacionValuacion    datetime64[ns]\n",
       "FechaSolicitudRefacc          datetime64[ns]\n",
       "FechaEntregaRefacc            datetime64[ns]\n",
       "FechaPromesa                  datetime64[ns]\n",
       "FechaEntrega                  datetime64[ns]\n",
       "MontoRefacciones                     float64\n",
       "MontoManoObra                        float64\n",
       "NumeroTotalPiezas                      int32\n",
       "TipoCentroReparacion                category\n",
       "NipSucursal                         category\n",
       "Taller                              category\n",
       "dtype: object"
      ]
     },
     "execution_count": 131,
     "metadata": {},
     "output_type": "execute_result"
    }
   ],
   "source": [
    "# Setting data type values to the correct ones\n",
    "Tb_BI_GrlSinValuacion = Tb_BI_GrlSinValuacion.astype({\"ValLst_NumeroExpediente\":\"category\",\"IdOficinaAtencion\":\"category\",\"NumeroTotalPiezas\":\"int\",\"TipoCentroReparacion\":\"category\", \"NipSucursal\":\"category\",\"Taller\":\"category\"})\n",
    "Tb_BI_GrlSinValuacion.dtypes"
   ]
  },
  {
   "cell_type": "markdown",
   "metadata": {},
   "source": [
    "#### La tabla Vw_Bi_GrlSinValuacion_Refacciones contiene información de todas las refacciones asociadas a una valuación. "
   ]
  },
  {
   "cell_type": "code",
   "execution_count": 132,
   "metadata": {},
   "outputs": [
    {
     "data": {
      "text/html": [
       "<div>\n",
       "<style scoped>\n",
       "    .dataframe tbody tr th:only-of-type {\n",
       "        vertical-align: middle;\n",
       "    }\n",
       "\n",
       "    .dataframe tbody tr th {\n",
       "        vertical-align: top;\n",
       "    }\n",
       "\n",
       "    .dataframe thead th {\n",
       "        text-align: right;\n",
       "    }\n",
       "</style>\n",
       "<table border=\"1\" class=\"dataframe\">\n",
       "  <thead>\n",
       "    <tr style=\"text-align: right;\">\n",
       "      <th></th>\n",
       "      <th>ID Valuación</th>\n",
       "      <th>Oficina de Atención</th>\n",
       "      <th>Nombre taller</th>\n",
       "      <th>Descripción Homologada (calculado)</th>\n",
       "      <th>Origen de la refacción (Genérica, Original, TOT, Usada)</th>\n",
       "      <th>FechaPromesaEntrega</th>\n",
       "      <th>FechaRecepcion</th>\n",
       "      <th>FechaAsignacion</th>\n",
       "      <th>FechaEntregaProveedor</th>\n",
       "      <th>NipSucursal</th>\n",
       "    </tr>\n",
       "  </thead>\n",
       "  <tbody>\n",
       "    <tr>\n",
       "      <th>0</th>\n",
       "      <td>196211-20A1</td>\n",
       "      <td>8.0</td>\n",
       "      <td>UNITED AUTO DE MONTERREY, S DE RL DE CV</td>\n",
       "      <td>TOLVA</td>\n",
       "      <td>GENUINA</td>\n",
       "      <td>2000-01-02</td>\n",
       "      <td>2020-11-18 18:07:33.247</td>\n",
       "      <td>2020-11-18 16:12:20.917</td>\n",
       "      <td>2020-11-18 18:08:22.837</td>\n",
       "      <td>31707934476</td>\n",
       "    </tr>\n",
       "    <tr>\n",
       "      <th>1</th>\n",
       "      <td>196211-20A1</td>\n",
       "      <td>8.0</td>\n",
       "      <td>UNITED AUTO DE MONTERREY, S DE RL DE CV</td>\n",
       "      <td>MOTOR</td>\n",
       "      <td>GENUINA</td>\n",
       "      <td>2000-01-02</td>\n",
       "      <td>2020-11-18 18:07:30.740</td>\n",
       "      <td>2020-11-18 16:12:20.917</td>\n",
       "      <td>2020-11-18 18:08:23.257</td>\n",
       "      <td>31707934476</td>\n",
       "    </tr>\n",
       "    <tr>\n",
       "      <th>2</th>\n",
       "      <td>196211-20A1</td>\n",
       "      <td>8.0</td>\n",
       "      <td>UNITED AUTO DE MONTERREY, S DE RL DE CV</td>\n",
       "      <td>TOLVA</td>\n",
       "      <td>GENUINA</td>\n",
       "      <td>2000-01-02</td>\n",
       "      <td>2020-11-18 18:07:33.083</td>\n",
       "      <td>2020-11-18 16:12:20.917</td>\n",
       "      <td>2020-11-18 18:08:22.367</td>\n",
       "      <td>31707934476</td>\n",
       "    </tr>\n",
       "    <tr>\n",
       "      <th>3</th>\n",
       "      <td>196211-20A1</td>\n",
       "      <td>8.0</td>\n",
       "      <td>UNITED AUTO DE MONTERREY, S DE RL DE CV</td>\n",
       "      <td>GUARDAFANGO</td>\n",
       "      <td>GENUINA</td>\n",
       "      <td>2000-01-02</td>\n",
       "      <td>2020-11-18 18:07:27.380</td>\n",
       "      <td>2020-11-18 16:12:20.917</td>\n",
       "      <td>2020-11-18 18:08:21.843</td>\n",
       "      <td>31707934476</td>\n",
       "    </tr>\n",
       "    <tr>\n",
       "      <th>4</th>\n",
       "      <td>196211-20A1</td>\n",
       "      <td>8.0</td>\n",
       "      <td>UNITED AUTO DE MONTERREY, S DE RL DE CV</td>\n",
       "      <td>RADIADOR</td>\n",
       "      <td>GENUINA</td>\n",
       "      <td>2000-01-02</td>\n",
       "      <td>2020-11-18 18:07:21.703</td>\n",
       "      <td>2020-11-18 16:12:20.917</td>\n",
       "      <td>2020-11-18 18:08:21.043</td>\n",
       "      <td>31707934476</td>\n",
       "    </tr>\n",
       "  </tbody>\n",
       "</table>\n",
       "</div>"
      ],
      "text/plain": [
       "  ID Valuación  Oficina de Atención                            Nombre taller  \\\n",
       "0  196211-20A1                  8.0  UNITED AUTO DE MONTERREY, S DE RL DE CV   \n",
       "1  196211-20A1                  8.0  UNITED AUTO DE MONTERREY, S DE RL DE CV   \n",
       "2  196211-20A1                  8.0  UNITED AUTO DE MONTERREY, S DE RL DE CV   \n",
       "3  196211-20A1                  8.0  UNITED AUTO DE MONTERREY, S DE RL DE CV   \n",
       "4  196211-20A1                  8.0  UNITED AUTO DE MONTERREY, S DE RL DE CV   \n",
       "\n",
       "  Descripción Homologada (calculado)  \\\n",
       "0                              TOLVA   \n",
       "1                              MOTOR   \n",
       "2                              TOLVA   \n",
       "3                        GUARDAFANGO   \n",
       "4                           RADIADOR   \n",
       "\n",
       "  Origen de la refacción (Genérica, Original, TOT, Usada) FechaPromesaEntrega  \\\n",
       "0                                            GENUINA               2000-01-02   \n",
       "1                                            GENUINA               2000-01-02   \n",
       "2                                            GENUINA               2000-01-02   \n",
       "3                                            GENUINA               2000-01-02   \n",
       "4                                            GENUINA               2000-01-02   \n",
       "\n",
       "           FechaRecepcion         FechaAsignacion   FechaEntregaProveedor  \\\n",
       "0 2020-11-18 18:07:33.247 2020-11-18 16:12:20.917 2020-11-18 18:08:22.837   \n",
       "1 2020-11-18 18:07:30.740 2020-11-18 16:12:20.917 2020-11-18 18:08:23.257   \n",
       "2 2020-11-18 18:07:33.083 2020-11-18 16:12:20.917 2020-11-18 18:08:22.367   \n",
       "3 2020-11-18 18:07:27.380 2020-11-18 16:12:20.917 2020-11-18 18:08:21.843   \n",
       "4 2020-11-18 18:07:21.703 2020-11-18 16:12:20.917 2020-11-18 18:08:21.043   \n",
       "\n",
       "   NipSucursal  \n",
       "0  31707934476  \n",
       "1  31707934476  \n",
       "2  31707934476  \n",
       "3  31707934476  \n",
       "4  31707934476  "
      ]
     },
     "execution_count": 132,
     "metadata": {},
     "output_type": "execute_result"
    }
   ],
   "source": [
    "# Glancing at the data frame\n",
    "Vw_Bi_GrlSinValuacion_Refacciones.head()"
   ]
  },
  {
   "cell_type": "code",
   "execution_count": 133,
   "metadata": {
    "scrolled": true
   },
   "outputs": [
    {
     "data": {
      "text/plain": [
       "ID Valuación                                                       object\n",
       "Oficina de Atención                                                 int32\n",
       "Nombre taller                                                      object\n",
       "Descripción Homologada (calculado)                                 object\n",
       "Origen de la refacción (Genérica, Original, TOT, Usada)            object\n",
       "FechaPromesaEntrega                                        datetime64[ns]\n",
       "FechaRecepcion                                             datetime64[ns]\n",
       "FechaAsignacion                                            datetime64[ns]\n",
       "FechaEntregaProveedor                                      datetime64[ns]\n",
       "NipSucursal                                                        object\n",
       "dtype: object"
      ]
     },
     "execution_count": 133,
     "metadata": {},
     "output_type": "execute_result"
    }
   ],
   "source": [
    "# Checking the data types in each columns\n",
    "Vw_Bi_GrlSinValuacion_Refacciones[\"Oficina de Atención\"] = Vw_Bi_GrlSinValuacion_Refacciones[\"Oficina de Atención\"].astype(\"int\")\n",
    "Vw_Bi_GrlSinValuacion_Refacciones.dtypes"
   ]
  },
  {
   "cell_type": "code",
   "execution_count": 134,
   "metadata": {
    "scrolled": false
   },
   "outputs": [
    {
     "data": {
      "text/plain": [
       "ID Valuación                                                     category\n",
       "Oficina de Atención                                              category\n",
       "Nombre taller                                                    category\n",
       "Descripción Homologada (calculado)                               category\n",
       "Origen de la refacción (Genérica, Original, TOT, Usada)          category\n",
       "FechaPromesaEntrega                                        datetime64[ns]\n",
       "FechaRecepcion                                             datetime64[ns]\n",
       "FechaAsignacion                                            datetime64[ns]\n",
       "FechaEntregaProveedor                                      datetime64[ns]\n",
       "NipSucursal                                                      category\n",
       "dtype: object"
      ]
     },
     "execution_count": 134,
     "metadata": {},
     "output_type": "execute_result"
    }
   ],
   "source": [
    "# Setting data type values to the correct ones\n",
    "Vw_Bi_GrlSinValuacion_Refacciones = Vw_Bi_GrlSinValuacion_Refacciones.astype({\"ID Valuación\":\"category\", \"Oficina de Atención\":\"category\",\"Nombre taller\":\"category\",\"Descripción Homologada (calculado)\":\"category\",\"Origen de la refacción (Genérica, Original, TOT, Usada)\":\"category\", \"NipSucursal\":\"category\"})\n",
    "Vw_Bi_GrlSinValuacion_Refacciones.dtypes"
   ]
  },
  {
   "cell_type": "markdown",
   "metadata": {},
   "source": [
    "#### La tabla Vw_bi_SinModeloMetas contiene información de los tiempos meta de surtido por oficina"
   ]
  },
  {
   "cell_type": "code",
   "execution_count": 135,
   "metadata": {
    "scrolled": true
   },
   "outputs": [
    {
     "data": {
      "text/html": [
       "<div>\n",
       "<style scoped>\n",
       "    .dataframe tbody tr th:only-of-type {\n",
       "        vertical-align: middle;\n",
       "    }\n",
       "\n",
       "    .dataframe tbody tr th {\n",
       "        vertical-align: top;\n",
       "    }\n",
       "\n",
       "    .dataframe thead th {\n",
       "        text-align: right;\n",
       "    }\n",
       "</style>\n",
       "<table border=\"1\" class=\"dataframe\">\n",
       "  <thead>\n",
       "    <tr style=\"text-align: right;\">\n",
       "      <th></th>\n",
       "      <th>Periodo</th>\n",
       "      <th>Oficina</th>\n",
       "      <th>TiempoSurtidoRefacciones</th>\n",
       "      <th>CumplimientoFechaPromesa</th>\n",
       "    </tr>\n",
       "  </thead>\n",
       "  <tbody>\n",
       "    <tr>\n",
       "      <th>0</th>\n",
       "      <td>202011</td>\n",
       "      <td>3</td>\n",
       "      <td>5.60</td>\n",
       "      <td>0.72</td>\n",
       "    </tr>\n",
       "    <tr>\n",
       "      <th>1</th>\n",
       "      <td>202011</td>\n",
       "      <td>4</td>\n",
       "      <td>5.12</td>\n",
       "      <td>0.72</td>\n",
       "    </tr>\n",
       "    <tr>\n",
       "      <th>2</th>\n",
       "      <td>202011</td>\n",
       "      <td>5</td>\n",
       "      <td>5.00</td>\n",
       "      <td>0.72</td>\n",
       "    </tr>\n",
       "    <tr>\n",
       "      <th>3</th>\n",
       "      <td>202011</td>\n",
       "      <td>6</td>\n",
       "      <td>6.16</td>\n",
       "      <td>0.72</td>\n",
       "    </tr>\n",
       "    <tr>\n",
       "      <th>4</th>\n",
       "      <td>202011</td>\n",
       "      <td>7</td>\n",
       "      <td>5.76</td>\n",
       "      <td>0.72</td>\n",
       "    </tr>\n",
       "  </tbody>\n",
       "</table>\n",
       "</div>"
      ],
      "text/plain": [
       "   Periodo  Oficina  TiempoSurtidoRefacciones  CumplimientoFechaPromesa\n",
       "0   202011        3                      5.60                      0.72\n",
       "1   202011        4                      5.12                      0.72\n",
       "2   202011        5                      5.00                      0.72\n",
       "3   202011        6                      6.16                      0.72\n",
       "4   202011        7                      5.76                      0.72"
      ]
     },
     "execution_count": 135,
     "metadata": {},
     "output_type": "execute_result"
    }
   ],
   "source": [
    "# Glancing at the data frame\n",
    "Vw_bi_SinModeloMetas.head()"
   ]
  },
  {
   "cell_type": "markdown",
   "metadata": {},
   "source": [
    "### Para este análisis se buscará cuántas refacciones cumplen con los tiempos meta de surtido.\n",
    "\n",
    "De la tabla Vw_Bi_GrlSinValuacion_Refacciones, se evaluará -donde sea posible- qué tantos proveedores sí cumplen con sus fechas de entrega (en los casos que sea posible).\n",
    "\n",
    "De la tabla Tb_BI_GralSinValuacion se evaluará cuántos talleres cumplieron con los tiempos meta utilizando también la tabla Vw_bi_SinModelosMetas.\n",
    "\n",
    "#### El primer paso será asignar como NULL todas las fechas de Vw_Bi_GralSinValuacion correspondientes al año 2000"
   ]
  },
  {
   "cell_type": "code",
   "execution_count": 145,
   "metadata": {},
   "outputs": [],
   "source": [
    "# Assigning pandas.Not a Time value to 2000 year dates\n",
    "Vw_Bi_GrlSinValuacion_Refacciones.loc[Vw_Bi_GrlSinValuacion_Refacciones['FechaAsignacion']<min(Tb_BI_GrlSinValuacion.FechaAutorizacionValuacion),'FechaAsignacion']= pd.NaT\n",
    "Vw_Bi_GrlSinValuacion_Refacciones.loc[Vw_Bi_GrlSinValuacion_Refacciones['FechaPromesaEntrega']<min(Tb_BI_GrlSinValuacion.FechaAutorizacionValuacion),'FechaPromesaEntrega']= pd.NaT\n",
    "Vw_Bi_GrlSinValuacion_Refacciones.loc[Vw_Bi_GrlSinValuacion_Refacciones['FechaRecepcion']<min(Tb_BI_GrlSinValuacion.FechaAutorizacionValuacion),'FechaRecepcion']= pd.NaT\n",
    "Vw_Bi_GrlSinValuacion_Refacciones.loc[Vw_Bi_GrlSinValuacion_Refacciones['FechaEntregaProveedor']<min(Tb_BI_GrlSinValuacion.FechaAutorizacionValuacion),'FechaEntregaProveedor']= pd.NaT"
   ]
  },
  {
   "cell_type": "code",
   "execution_count": 162,
   "metadata": {},
   "outputs": [],
   "source": [
    "# Complete data set (all Dates are valid)\n",
    "refacCompleto = Vw_Bi_GrlSinValuacion_Refacciones[pd.notnull(Vw_Bi_GrlSinValuacion_Refacciones.FechaAsignacion) & pd.notnull(Vw_Bi_GrlSinValuacion_Refacciones.FechaEntregaProveedor) & pd.notnull(Vw_Bi_GrlSinValuacion_Refacciones.FechaPromesaEntrega)]\n",
    "# Absolutelly crap data set (none of the date columns is valid)\n",
    "refacNAS = Vw_Bi_GrlSinValuacion_Refacciones[pd.isnull(Vw_Bi_GrlSinValuacion_Refacciones.FechaAsignacion) & pd.isnull(Vw_Bi_GrlSinValuacion_Refacciones.FechaEntregaProveedor) & pd.isnull(Vw_Bi_GrlSinValuacion_Refacciones.FechaPromesaEntrega)]\n",
    "# "
   ]
  },
  {
   "cell_type": "code",
   "execution_count": 181,
   "metadata": {},
   "outputs": [
    {
     "name": "stdout",
     "output_type": "stream",
     "text": [
      "Del total de datos, el 29.11 % está completo\n",
      "El 0.77 % no contiene ninguna fecha para evaluar\n"
     ]
    }
   ],
   "source": [
    "# Checking the number of complete cases the main data frame has\n",
    "print(\"Del total de datos, el\",round(100-(Vw_Bi_GrlSinValuacion_Refacciones.shape[0]-refacCompleto.shape[0])/Vw_Bi_GrlSinValuacion_Refacciones.shape[0] *100,2),\"% está completo\")\n",
    "print(\"El\",round(100-(Vw_Bi_GrlSinValuacion_Refacciones.shape[0]-refacNAS.shape[0])/Vw_Bi_GrlSinValuacion_Refacciones.shape[0] *100,2),\"% no contiene ninguna fecha para evaluar\")\n"
   ]
  },
  {
   "cell_type": "markdown",
   "metadata": {},
   "source": []
  },
  {
   "cell_type": "code",
   "execution_count": 175,
   "metadata": {},
   "outputs": [
    {
     "data": {
      "text/plain": [
       "1072"
      ]
     },
     "execution_count": 175,
     "metadata": {},
     "output_type": "execute_result"
    }
   ],
   "source": [
    "refacNAS.shape[0]\n",
    "# Vw_Bi_GrlSinValuacion_Refacciones.shape"
   ]
  },
  {
   "cell_type": "code",
   "execution_count": null,
   "metadata": {},
   "outputs": [],
   "source": [
    "# RefaccionesCompleto = Vw_Bi_GrlSinValuacion_Refacciones[]\n",
    "pd.isnull(Vw_Bi_GrlSinValuacion_Refacciones.FechaPromesaEntrega).any()"
   ]
  },
  {
   "cell_type": "code",
   "execution_count": 178,
   "metadata": {},
   "outputs": [
    {
     "data": {
      "text/plain": [
       "0.77"
      ]
     },
     "execution_count": 178,
     "metadata": {},
     "output_type": "execute_result"
    }
   ],
   "source": [
    "round(100-(Vw_Bi_GrlSinValuacion_Refacciones.shape[0]-refacNAS.shape[0])/Vw_Bi_GrlSinValuacion_Refacciones.shape[0] *100,2)"
   ]
  }
 ],
 "metadata": {
  "kernelspec": {
   "display_name": "Python 3",
   "language": "python",
   "name": "python3"
  },
  "language_info": {
   "codemirror_mode": {
    "name": "ipython",
    "version": 3
   },
   "file_extension": ".py",
   "mimetype": "text/x-python",
   "name": "python",
   "nbconvert_exporter": "python",
   "pygments_lexer": "ipython3",
   "version": "3.8.5"
  }
 },
 "nbformat": 4,
 "nbformat_minor": 4
}
